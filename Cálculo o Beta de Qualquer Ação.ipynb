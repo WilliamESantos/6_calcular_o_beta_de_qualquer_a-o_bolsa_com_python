{
 "cells": [
  {
   "cell_type": "markdown",
   "id": "fa0671ca",
   "metadata": {},
   "source": [
    "# <font color='darkblue'>Como Calcular o Beta de Qualquer Ação da Bolsa com Python\n",
    "### <font color='darkblue'> Documentação Numpy e Yfinance\n",
    "https://numpy.org/pt/\n",
    "    \n",
    "https://pypi.org/project/yfinance/"
   ]
  },
  {
   "cell_type": "markdown",
   "id": "1abf0898",
   "metadata": {},
   "source": [
    "### <font color='darkblue'>Link da Aula, Para Acompanhamento    \n",
    "https://www.youtube.com/watch?v=7kBkA76Ronk&list=PLQkgHGk8rux6L42KC9l6R25AD7iimkLi_&index=2"
   ]
  },
  {
   "cell_type": "code",
   "execution_count": null,
   "id": "45d0c4ff",
   "metadata": {},
   "outputs": [],
   "source": [
    "# Instalar as bibliotecas abaixo:\n",
    "# !pip install numpy\n",
    "# !pip install yfinance\n",
    "# Para olhar se a biblioteca já está instalada, deve-se ir no Prompet do Anaconda e digitar: pip freeze"
   ]
  },
  {
   "cell_type": "code",
   "execution_count": 2,
   "id": "d6c37b5a",
   "metadata": {},
   "outputs": [],
   "source": [
    "# Importar as bibliotecas\n",
    "\n",
    "# Biblioteca para a linguagem Python com funções para se trabalhar com computação numérica\n",
    "import numpy as np\n",
    "\n",
    "# Essa biblioteca efetua análise de dados financeiros utilizando a linguagem de programação Python.\n",
    "import yfinance as yf\n",
    "\n",
    "# Statsmodels é um módulo python que fornece várias funções para exploração de dados estatísticos\n",
    "import statsmodels.api as sm\n",
    "\n",
    "# Essa biblioteca efetua manipulação de séries no tempo para data frame\n",
    "from datetime import timedelta\n",
    "from datetime import datetime"
   ]
  },
  {
   "cell_type": "markdown",
   "id": "69363956",
   "metadata": {},
   "source": [
    "### <font color='darkblue'> Selecionar os Ativos (WEGE3 e BVSP) da Yfinance "
   ]
  },
  {
   "cell_type": "code",
   "execution_count": 5,
   "id": "d9707525",
   "metadata": {},
   "outputs": [
    {
     "name": "stdout",
     "output_type": "stream",
     "text": [
      "[*********************100%***********************]  2 of 2 completed\n"
     ]
    },
    {
     "data": {
      "text/html": [
       "<div>\n",
       "<style scoped>\n",
       "    .dataframe tbody tr th:only-of-type {\n",
       "        vertical-align: middle;\n",
       "    }\n",
       "\n",
       "    .dataframe tbody tr th {\n",
       "        vertical-align: top;\n",
       "    }\n",
       "\n",
       "    .dataframe thead th {\n",
       "        text-align: right;\n",
       "    }\n",
       "</style>\n",
       "<table border=\"1\" class=\"dataframe\">\n",
       "  <thead>\n",
       "    <tr style=\"text-align: right;\">\n",
       "      <th></th>\n",
       "      <th>WEGE3.SA</th>\n",
       "      <th>^BVSP</th>\n",
       "    </tr>\n",
       "    <tr>\n",
       "      <th>Date</th>\n",
       "      <th></th>\n",
       "      <th></th>\n",
       "    </tr>\n",
       "  </thead>\n",
       "  <tbody>\n",
       "    <tr>\n",
       "      <th>2020-10-22</th>\n",
       "      <td>39.298035</td>\n",
       "      <td>101918.0</td>\n",
       "    </tr>\n",
       "    <tr>\n",
       "      <th>2020-10-23</th>\n",
       "      <td>39.087444</td>\n",
       "      <td>101260.0</td>\n",
       "    </tr>\n",
       "    <tr>\n",
       "      <th>2020-10-26</th>\n",
       "      <td>39.604340</td>\n",
       "      <td>101017.0</td>\n",
       "    </tr>\n",
       "    <tr>\n",
       "      <th>2020-10-27</th>\n",
       "      <td>39.838852</td>\n",
       "      <td>99606.0</td>\n",
       "    </tr>\n",
       "    <tr>\n",
       "      <th>2020-10-28</th>\n",
       "      <td>37.876587</td>\n",
       "      <td>95369.0</td>\n",
       "    </tr>\n",
       "    <tr>\n",
       "      <th>...</th>\n",
       "      <td>...</td>\n",
       "      <td>...</td>\n",
       "    </tr>\n",
       "    <tr>\n",
       "      <th>2023-10-16</th>\n",
       "      <td>34.650002</td>\n",
       "      <td>116534.0</td>\n",
       "    </tr>\n",
       "    <tr>\n",
       "      <th>2023-10-17</th>\n",
       "      <td>34.279999</td>\n",
       "      <td>115908.0</td>\n",
       "    </tr>\n",
       "    <tr>\n",
       "      <th>2023-10-18</th>\n",
       "      <td>34.290001</td>\n",
       "      <td>114060.0</td>\n",
       "    </tr>\n",
       "    <tr>\n",
       "      <th>2023-10-19</th>\n",
       "      <td>33.939999</td>\n",
       "      <td>114004.0</td>\n",
       "    </tr>\n",
       "    <tr>\n",
       "      <th>2023-10-20</th>\n",
       "      <td>33.810001</td>\n",
       "      <td>113155.0</td>\n",
       "    </tr>\n",
       "  </tbody>\n",
       "</table>\n",
       "<p>745 rows × 2 columns</p>\n",
       "</div>"
      ],
      "text/plain": [
       "             WEGE3.SA     ^BVSP\n",
       "Date                           \n",
       "2020-10-22  39.298035  101918.0\n",
       "2020-10-23  39.087444  101260.0\n",
       "2020-10-26  39.604340  101017.0\n",
       "2020-10-27  39.838852   99606.0\n",
       "2020-10-28  37.876587   95369.0\n",
       "...               ...       ...\n",
       "2023-10-16  34.650002  116534.0\n",
       "2023-10-17  34.279999  115908.0\n",
       "2023-10-18  34.290001  114060.0\n",
       "2023-10-19  33.939999  114004.0\n",
       "2023-10-20  33.810001  113155.0\n",
       "\n",
       "[745 rows x 2 columns]"
      ]
     },
     "execution_count": 5,
     "metadata": {},
     "output_type": "execute_result"
    }
   ],
   "source": [
    "# O código abaixo vai buscar dois ativos (Ação) e (Índice de Referência)  \n",
    "ativos = [\"WEGE3.SA\", \"^BVSP\"]\n",
    "# O código abaixo vai trazer o dia de hoje\n",
    "data = datetime.now()\n",
    "# O código abaixo vai pegar três anos atrás e diminuir da data de hoje\n",
    "tres_anos_atras = data - timedelta(days = 1095)\n",
    "\n",
    "# O código abaxio vai pegar o valor de fechamento ajustado dos ativos\n",
    "dados_cotacoes = yf.download(tickers = ativos, start = tres_anos_atras, end = data)['Adj Close']\n",
    "\n",
    "# Se tirarmos ['Adj Close'], o código vai trazer todos os campo\n",
    "# dados_cotacoes = yf.download(tickers = ativos, start = tres_anos_atras, end = data)\n",
    "\n",
    "dados_cotacoes"
   ]
  },
  {
   "cell_type": "markdown",
   "id": "4c944146",
   "metadata": {},
   "source": [
    "### <font color='darkblue'> Vamos Calcular o Retorno Diário "
   ]
  },
  {
   "cell_type": "code",
   "execution_count": 6,
   "id": "ee30967c",
   "metadata": {},
   "outputs": [
    {
     "data": {
      "text/html": [
       "<div>\n",
       "<style scoped>\n",
       "    .dataframe tbody tr th:only-of-type {\n",
       "        vertical-align: middle;\n",
       "    }\n",
       "\n",
       "    .dataframe tbody tr th {\n",
       "        vertical-align: top;\n",
       "    }\n",
       "\n",
       "    .dataframe thead th {\n",
       "        text-align: right;\n",
       "    }\n",
       "</style>\n",
       "<table border=\"1\" class=\"dataframe\">\n",
       "  <thead>\n",
       "    <tr style=\"text-align: right;\">\n",
       "      <th></th>\n",
       "      <th>WEGE3.SA</th>\n",
       "      <th>^BVSP</th>\n",
       "    </tr>\n",
       "    <tr>\n",
       "      <th>Date</th>\n",
       "      <th></th>\n",
       "      <th></th>\n",
       "    </tr>\n",
       "  </thead>\n",
       "  <tbody>\n",
       "    <tr>\n",
       "      <th>2020-10-23</th>\n",
       "      <td>-0.005359</td>\n",
       "      <td>-0.006456</td>\n",
       "    </tr>\n",
       "    <tr>\n",
       "      <th>2020-10-26</th>\n",
       "      <td>0.013224</td>\n",
       "      <td>-0.002400</td>\n",
       "    </tr>\n",
       "    <tr>\n",
       "      <th>2020-10-27</th>\n",
       "      <td>0.005921</td>\n",
       "      <td>-0.013968</td>\n",
       "    </tr>\n",
       "    <tr>\n",
       "      <th>2020-10-28</th>\n",
       "      <td>-0.049255</td>\n",
       "      <td>-0.042538</td>\n",
       "    </tr>\n",
       "    <tr>\n",
       "      <th>2020-10-29</th>\n",
       "      <td>0.011246</td>\n",
       "      <td>0.012719</td>\n",
       "    </tr>\n",
       "    <tr>\n",
       "      <th>...</th>\n",
       "      <td>...</td>\n",
       "      <td>...</td>\n",
       "    </tr>\n",
       "    <tr>\n",
       "      <th>2023-10-16</th>\n",
       "      <td>0.003185</td>\n",
       "      <td>0.006738</td>\n",
       "    </tr>\n",
       "    <tr>\n",
       "      <th>2023-10-17</th>\n",
       "      <td>-0.010678</td>\n",
       "      <td>-0.005372</td>\n",
       "    </tr>\n",
       "    <tr>\n",
       "      <th>2023-10-18</th>\n",
       "      <td>0.000292</td>\n",
       "      <td>-0.015944</td>\n",
       "    </tr>\n",
       "    <tr>\n",
       "      <th>2023-10-19</th>\n",
       "      <td>-0.010207</td>\n",
       "      <td>-0.000491</td>\n",
       "    </tr>\n",
       "    <tr>\n",
       "      <th>2023-10-20</th>\n",
       "      <td>-0.003830</td>\n",
       "      <td>-0.007447</td>\n",
       "    </tr>\n",
       "  </tbody>\n",
       "</table>\n",
       "<p>744 rows × 2 columns</p>\n",
       "</div>"
      ],
      "text/plain": [
       "            WEGE3.SA     ^BVSP\n",
       "Date                          \n",
       "2020-10-23 -0.005359 -0.006456\n",
       "2020-10-26  0.013224 -0.002400\n",
       "2020-10-27  0.005921 -0.013968\n",
       "2020-10-28 -0.049255 -0.042538\n",
       "2020-10-29  0.011246  0.012719\n",
       "...              ...       ...\n",
       "2023-10-16  0.003185  0.006738\n",
       "2023-10-17 -0.010678 -0.005372\n",
       "2023-10-18  0.000292 -0.015944\n",
       "2023-10-19 -0.010207 -0.000491\n",
       "2023-10-20 -0.003830 -0.007447\n",
       "\n",
       "[744 rows x 2 columns]"
      ]
     },
     "execution_count": 6,
     "metadata": {},
     "output_type": "execute_result"
    }
   ],
   "source": [
    "retornos_diarios = dados_cotacoes.pct_change().dropna()\n",
    "retornos_diarios"
   ]
  },
  {
   "cell_type": "markdown",
   "id": "9010d026",
   "metadata": {},
   "source": [
    "### <font color='darkblue'> Calculando o Beta - (Regressão Linear Entre o (X) e o (Y))"
   ]
  },
  {
   "cell_type": "code",
   "execution_count": 7,
   "id": "07051120",
   "metadata": {},
   "outputs": [],
   "source": [
    "X = retornos_diarios['^BVSP']\n",
    "Y = retornos_diarios[ativos[0]]\n",
    "X = sm.add_constant(X)\n",
    "model = sm.OLS(Y, X).fit()"
   ]
  },
  {
   "cell_type": "code",
   "execution_count": 9,
   "id": "d7e842f2",
   "metadata": {},
   "outputs": [
    {
     "name": "stdout",
     "output_type": "stream",
     "text": [
      "0.7680505312245602\n",
      "0.22152473551960317\n",
      "---------------------------------------\n"
     ]
    }
   ],
   "source": [
    "# Beta\n",
    "print(model.params[1])\n",
    "print(model.rsquared)\n",
    "print(\"---------------------------------------\")\n",
    "\n",
    "# Abaixo vai imprimir o Beta (0,76) e o R Quadrado (0,22)"
   ]
  },
  {
   "cell_type": "code",
   "execution_count": 10,
   "id": "4a4613a6",
   "metadata": {},
   "outputs": [
    {
     "name": "stdout",
     "output_type": "stream",
     "text": [
      "                            OLS Regression Results                            \n",
      "==============================================================================\n",
      "Dep. Variable:               WEGE3.SA   R-squared:                       0.222\n",
      "Model:                            OLS   Adj. R-squared:                  0.220\n",
      "Method:                 Least Squares   F-statistic:                     211.1\n",
      "Date:                Sun, 22 Oct 2023   Prob (F-statistic):           2.78e-42\n",
      "Time:                        20:20:32   Log-Likelihood:                 1915.4\n",
      "No. Observations:                 744   AIC:                            -3827.\n",
      "Df Residuals:                     742   BIC:                            -3818.\n",
      "Df Model:                           1                                         \n",
      "Covariance Type:            nonrobust                                         \n",
      "==============================================================================\n",
      "                 coef    std err          t      P>|t|      [0.025      0.975]\n",
      "------------------------------------------------------------------------------\n",
      "const         -0.0002      0.001     -0.231      0.817      -0.001       0.001\n",
      "^BVSP          0.7681      0.053     14.531      0.000       0.664       0.872\n",
      "==============================================================================\n",
      "Omnibus:                       83.617   Durbin-Watson:                   2.056\n",
      "Prob(Omnibus):                  0.000   Jarque-Bera (JB):              190.086\n",
      "Skew:                           0.633   Prob(JB):                     5.29e-42\n",
      "Kurtosis:                       5.128   Cond. No.                         78.1\n",
      "==============================================================================\n",
      "\n",
      "Notes:\n",
      "[1] Standard Errors assume that the covariance matrix of the errors is correctly specified.\n"
     ]
    }
   ],
   "source": [
    "print(str(model.summary()))"
   ]
  },
  {
   "cell_type": "markdown",
   "id": "a49ff5ab",
   "metadata": {},
   "source": [
    "###### <font color='Red'> Projeto (22/10/2023): Cálculo do BETA - William E. Santos. "
   ]
  }
 ],
 "metadata": {
  "kernelspec": {
   "display_name": "Python 3 (ipykernel)",
   "language": "python",
   "name": "python3"
  },
  "language_info": {
   "codemirror_mode": {
    "name": "ipython",
    "version": 3
   },
   "file_extension": ".py",
   "mimetype": "text/x-python",
   "name": "python",
   "nbconvert_exporter": "python",
   "pygments_lexer": "ipython3",
   "version": "3.9.12"
  }
 },
 "nbformat": 4,
 "nbformat_minor": 5
}
